{
 "cells": [
  {
   "cell_type": "code",
   "execution_count": null,
   "metadata": {},
   "outputs": [],
   "source": [
    "import numpy as np\n",
    "\n",
    "a = np.array([1,2,3])\n",
    "\n",
    "print(a)"
   ]
  },
  {
   "cell_type": "code",
   "execution_count": null,
   "metadata": {},
   "outputs": [],
   "source": [
    "import numpy as np\n",
    "\n",
    "a = np.array([(1,2,3),(4,5,6)])\n",
    "\n",
    "print(a)"
   ]
  },
  {
   "cell_type": "code",
   "execution_count": null,
   "metadata": {},
   "outputs": [],
   "source": [
    "#comparing the #size of numpy array with list in python\n",
    "\n",
    "import numpy as np \n",
    "\n",
    "import time \n",
    "\n",
    "import sys\n",
    "\n",
    "s= range(1000)\n",
    "\n",
    "print(sys.getsizeof(5)*len(s))\n",
    "\n",
    "d = np.arange(1000)\n",
    "\n",
    "print(d.size*d.itemsize)"
   ]
  },
  {
   "cell_type": "code",
   "execution_count": null,
   "metadata": {},
   "outputs": [],
   "source": [
    "#comparing the #time of numpy array with list in python\n",
    "\n",
    "import numpy as np \n",
    "\n",
    "import time as t\n",
    "\n",
    "import sys\n",
    "\n",
    "\n",
    "size = 1000000\n",
    "\n",
    "L1 = range(size)\n",
    "L2 = range(size)\n",
    "\n",
    "start = t.time()\n",
    "\n",
    "result = [(x,y) for x,y in zip(L1,L2)]\n",
    "\n",
    "print ((t.time()-start)*1000)\n",
    "\n",
    "A1 = np.arange(size)\n",
    "A2 = np.arange(size)\n",
    "\n",
    "start = t.time()\n",
    "\n",
    "result = A1+A2\n",
    "\n",
    "print ((t.time()-start)*1000)\n"
   ]
  },
  {
   "cell_type": "code",
   "execution_count": null,
   "metadata": {},
   "outputs": [],
   "source": [
    "#shows the dimensions,size and datatype of np-array\n",
    "\n",
    "import numpy as np \n",
    "\n",
    "a = np.array([1,2,3])\n",
    "\n",
    "print('dimension = ',a.ndim)\n",
    "\n",
    "print('Size of int = ',a.itemsize)\n",
    "\n",
    "print(\"Datatype\",a.dtype)\n"
   ]
  },
  {
   "cell_type": "code",
   "execution_count": null,
   "metadata": {},
   "outputs": [],
   "source": [
    "#shows the dimensions of np- 2d-array\n",
    "\n",
    "import numpy as np \n",
    "\n",
    "a = np.array([(1,2,3),(4,5,6)])\n",
    "\n",
    "print(a.ndim)"
   ]
  },
  {
   "cell_type": "code",
   "execution_count": null,
   "metadata": {},
   "outputs": [],
   "source": [
    "#shows the size and shape of np-array\n",
    "\n",
    "import numpy as np \n",
    "\n",
    "a = np.array([1,2,3,4,5,6,7])\n",
    "\n",
    "b = np.array([(1,2,3),(4,5,6)])\n",
    "\n",
    "print(a.size)\n",
    "\n",
    "print(a.shape)\n",
    "\n",
    "print(b.shape)\n",
    "\n"
   ]
  },
  {
   "cell_type": "code",
   "execution_count": null,
   "metadata": {},
   "outputs": [],
   "source": [
    "#shows the reshaping of np- 2d-array\n",
    "\n",
    "import numpy as np \n",
    "\n",
    "a = np.array([1,2,3,4,5,6,7])\n",
    "\n",
    "b = np.array([(1,2,3),(4,5,6)])\n",
    "\n",
    "print(b.reshape(3,2)) "
   ]
  },
  {
   "cell_type": "code",
   "execution_count": null,
   "metadata": {},
   "outputs": [],
   "source": [
    "#shows the slicing of np-array\n",
    "\n",
    "import numpy as np \n",
    "\n",
    "a = np.array([1,2,3,4,5,6,7])\n",
    "\n",
    "b = np.array([(1,2,3,4),(5,6,7,8),(9,10,11,12)])\n",
    "\n",
    "print(b[0:,1],'\\n')\n",
    "      \n",
    "print(b[0:2,1],'\\n')\n"
   ]
  },
  {
   "cell_type": "code",
   "execution_count": null,
   "metadata": {},
   "outputs": [],
   "source": [
    "#shows the linspace of np-array\n",
    "\n",
    "import numpy as np \n",
    "\n",
    "a = np.linspace(1,3,5)\n",
    "\n",
    "b = np.linspace(1,3,20)\n",
    "\n",
    "print(a,'\\n\\n',b)"
   ]
  },
  {
   "cell_type": "code",
   "execution_count": null,
   "metadata": {},
   "outputs": [],
   "source": [
    "#shows the basic math of np-array\n",
    "\n",
    "import numpy as np \n",
    "\n",
    "a = np.array([1,2,3])\n",
    "\n",
    "b = np.array([(1,2,3,4),(5,6,7,8),(9,10,11,12)])\n",
    "\n",
    "c = np.array([(1,2,3,4),(5,6,7,8),(9,10,11,12)])\n",
    "\n",
    "print(b.min(),'\\n')\n",
    "\n",
    "print(b.max(),'\\n')\n",
    "\n",
    "print(b.sum(),'\\n')\n",
    "\n",
    "print(b.mean(),'\\n')\n",
    "\n",
    "print(np.sqrt(a),'\\n')\n",
    "\n",
    "print(np.std(a),'\\n')\n",
    "\n",
    "print(b+c,'\\n')\n",
    "\n",
    "print(b-c,'\\n')\n",
    "\n",
    "print(b*c,'\\n')\n",
    "\n",
    "print(b/c,'\\n')\n"
   ]
  },
  {
   "cell_type": "code",
   "execution_count": null,
   "metadata": {},
   "outputs": [],
   "source": [
    "#shows the axis of np-array\n",
    "\n",
    "import numpy as np \n",
    "\n",
    "a = np.array([1,2,3])\n",
    "\n",
    "b = np.array([(1,2,3,4),(5,6,7,8),(9,10,11,12)])\n",
    "\n",
    "print(b.sum(axis=0),'\\n')\n",
    "\n",
    "print(b.sum(axis=1),'\\n')\n",
    "\n",
    "print(np.sqrt(a),'\\n')"
   ]
  },
  {
   "cell_type": "code",
   "execution_count": null,
   "metadata": {},
   "outputs": [],
   "source": [
    "#shows the  of np-array\n",
    "\n",
    "import numpy as np \n",
    "\n",
    "a = np.array([1,2,3])\n",
    "\n",
    "b = np.array([(1,2,3,4),(5,6,7,8),(9,10,11,12)])\n",
    "\n",
    "print(b.sum(axis=0),'\\n')\n",
    "\n",
    "print(b.sum(axis=1),'\\n')\n",
    "\n"
   ]
  },
  {
   "cell_type": "code",
   "execution_count": null,
   "metadata": {},
   "outputs": [],
   "source": [
    "#shows the stack of np-array\n",
    "\n",
    "import numpy as np \n",
    "\n",
    "a = np.array([(1,2,3,4),(5,6,7,8)])\n",
    "\n",
    "b = np.array([(1,2,3,4),(5,6,7,8)])\n",
    "\n",
    "print(np.hstack((a,b)),'\\n')\n",
    "\n",
    "print(np.vstack((a,b)),'\\n')\n",
    "\n",
    "print(a.ravel(),'\\n')"
   ]
  },
  {
   "cell_type": "code",
   "execution_count": null,
   "metadata": {},
   "outputs": [],
   "source": []
  }
 ],
 "metadata": {
  "kernelspec": {
   "display_name": "Python 3",
   "language": "python",
   "name": "python3"
  },
  "language_info": {
   "codemirror_mode": {
    "name": "ipython",
    "version": 3
   },
   "file_extension": ".py",
   "mimetype": "text/x-python",
   "name": "python",
   "nbconvert_exporter": "python",
   "pygments_lexer": "ipython3",
   "version": "3.5.2"
  }
 },
 "nbformat": 4,
 "nbformat_minor": 2
}
